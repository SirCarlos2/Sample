{
  "nbformat": 4,
  "nbformat_minor": 0,
  "metadata": {
    "colab": {
      "provenance": [],
      "authorship_tag": "ABX9TyPl95cOOZnJGA2YFg48vjFA",
      "include_colab_link": true
    },
    "kernelspec": {
      "name": "python3",
      "display_name": "Python 3"
    },
    "language_info": {
      "name": "python"
    }
  },
  "cells": [
    {
      "cell_type": "markdown",
      "metadata": {
        "id": "view-in-github",
        "colab_type": "text"
      },
      "source": [
        "<a href=\"https://colab.research.google.com/github/SirCarlos2/Sample/blob/main/Prueba.ipynb\" target=\"_parent\"><img src=\"https://colab.research.google.com/assets/colab-badge.svg\" alt=\"Open In Colab\"/></a>"
      ]
    },
    {
      "cell_type": "code",
      "execution_count": 10,
      "metadata": {
        "colab": {
          "base_uri": "https://localhost:8080/"
        },
        "id": "EDkYcBpZOOxp",
        "outputId": "295e4ecd-2f3c-4db2-fce9-68ab75d01fd2"
      },
      "outputs": [
        {
          "output_type": "stream",
          "name": "stdout",
          "text": [
            "Hola, Mundo!\n"
          ]
        }
      ],
      "source": [
        "# prompt: print(\"Hola, Mundo!\")\n",
        "# print(\"Hola, Colab!\")\n",
        "# print(\"Hola, Phyton!\")\n",
        "\n",
        "print(\"Hola, Mundo!\")\n",
        "print(\"Hola, Colab!\")\n",
        "print(\"Hola, Phyton!\")\n"
      ]
    },
    {
      "cell_type": "markdown",
      "source": [
        "# Heading 1\n",
        "\n",
        "You can write sentences in Markdown notation.\n",
        "\n",
        "## Heading 2\n",
        "\n",
        "**strong**\n",
        "\n",
        "You can also write formulas.\n",
        "\n",
        "$$\n",
        "y=2x+1\n",
        "$$\n",
        "\n",
        "When writing Python code, use code blocks.\n",
        "\n",
        "```python\n",
        "print(\"Hello, World!\")\n",
        "```\n",
        "\n",
        "- Unordered Lists\n",
        "- Unordered Lists\n",
        "  - Unordered Lists\n",
        "\n",
        "> blockquotes\n",
        "\n"
      ],
      "metadata": {
        "id": "Lh2iGr9JQW-q"
      }
    },
    {
      "cell_type": "code",
      "source": [
        "num=3+5"
      ],
      "metadata": {
        "id": "KeyTMoWcQOMo"
      },
      "execution_count": 8,
      "outputs": []
    },
    {
      "cell_type": "code",
      "source": [
        "print(num)"
      ],
      "metadata": {
        "colab": {
          "base_uri": "https://localhost:8080/"
        },
        "id": "WZdIe43yRfkY",
        "outputId": "df7b1ca6-ce5d-4faa-b9c0-4cdb217b1089"
      },
      "execution_count": 9,
      "outputs": [
        {
          "output_type": "stream",
          "name": "stdout",
          "text": [
            "8\n"
          ]
        }
      ]
    },
    {
      "cell_type": "code",
      "source": [],
      "metadata": {
        "id": "iqX0QDQbRkFw"
      },
      "execution_count": null,
      "outputs": []
    }
  ]
}